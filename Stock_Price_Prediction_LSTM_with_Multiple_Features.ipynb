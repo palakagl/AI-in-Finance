{
  "nbformat": 4,
  "nbformat_minor": 0,
  "metadata": {
    "colab": {
      "name": "Stock Price Prediction LSTM with Multiple Features.ipynb",
      "provenance": [],
      "authorship_tag": "ABX9TyNIdJPbQKeBNpd1HHWrkDue",
      "include_colab_link": true
    },
    "kernelspec": {
      "name": "python3",
      "display_name": "Python 3"
    },
    "language_info": {
      "name": "python"
    }
  },
  "cells": [
    {
      "cell_type": "markdown",
      "metadata": {
        "id": "view-in-github",
        "colab_type": "text"
      },
      "source": [
        "<a href=\"https://colab.research.google.com/github/palakagl/AI-in-Finance/blob/main/Stock_Price_Prediction_LSTM_with_Multiple_Features.ipynb\" target=\"_parent\"><img src=\"https://colab.research.google.com/assets/colab-badge.svg\" alt=\"Open In Colab\"/></a>"
      ]
    },
    {
      "cell_type": "code",
      "execution_count": 26,
      "metadata": {
        "colab": {
          "base_uri": "https://localhost:8080/"
        },
        "id": "AaqExUoy3Sen",
        "outputId": "2bd1912d-a782-4b9e-c6d2-3bd08e63bed5"
      },
      "outputs": [
        {
          "output_type": "stream",
          "name": "stdout",
          "text": [
            "Requirement already satisfied: yfinance in /usr/local/lib/python3.7/dist-packages (0.1.70)\n",
            "Requirement already satisfied: numpy>=1.15 in /usr/local/lib/python3.7/dist-packages (from yfinance) (1.21.5)\n",
            "Requirement already satisfied: lxml>=4.5.1 in /usr/local/lib/python3.7/dist-packages (from yfinance) (4.8.0)\n",
            "Requirement already satisfied: multitasking>=0.0.7 in /usr/local/lib/python3.7/dist-packages (from yfinance) (0.0.10)\n",
            "Requirement already satisfied: pandas>=0.24.0 in /usr/local/lib/python3.7/dist-packages (from yfinance) (1.3.5)\n",
            "Requirement already satisfied: requests>=2.26 in /usr/local/lib/python3.7/dist-packages (from yfinance) (2.27.1)\n",
            "Requirement already satisfied: python-dateutil>=2.7.3 in /usr/local/lib/python3.7/dist-packages (from pandas>=0.24.0->yfinance) (2.8.2)\n",
            "Requirement already satisfied: pytz>=2017.3 in /usr/local/lib/python3.7/dist-packages (from pandas>=0.24.0->yfinance) (2018.9)\n",
            "Requirement already satisfied: six>=1.5 in /usr/local/lib/python3.7/dist-packages (from python-dateutil>=2.7.3->pandas>=0.24.0->yfinance) (1.15.0)\n",
            "Requirement already satisfied: certifi>=2017.4.17 in /usr/local/lib/python3.7/dist-packages (from requests>=2.26->yfinance) (2021.10.8)\n",
            "Requirement already satisfied: idna<4,>=2.5 in /usr/local/lib/python3.7/dist-packages (from requests>=2.26->yfinance) (2.10)\n",
            "Requirement already satisfied: urllib3<1.27,>=1.21.1 in /usr/local/lib/python3.7/dist-packages (from requests>=2.26->yfinance) (1.24.3)\n",
            "Requirement already satisfied: charset-normalizer~=2.0.0 in /usr/local/lib/python3.7/dist-packages (from requests>=2.26->yfinance) (2.0.12)\n"
          ]
        }
      ],
      "source": [
        "!pip install yfinance --upgrade --no-cache-dir"
      ]
    },
    {
      "cell_type": "code",
      "source": [
        "!pip install --upgrade pandas\n",
        "!pip install --upgrade pandas-datareader"
      ],
      "metadata": {
        "colab": {
          "base_uri": "https://localhost:8080/"
        },
        "id": "WDohRsys3T5J",
        "outputId": "98bf93bf-6373-41b3-c704-ee76bad85a20"
      },
      "execution_count": 27,
      "outputs": [
        {
          "output_type": "stream",
          "name": "stdout",
          "text": [
            "Requirement already satisfied: pandas in /usr/local/lib/python3.7/dist-packages (1.3.5)\n",
            "Requirement already satisfied: numpy>=1.17.3 in /usr/local/lib/python3.7/dist-packages (from pandas) (1.21.5)\n",
            "Requirement already satisfied: pytz>=2017.3 in /usr/local/lib/python3.7/dist-packages (from pandas) (2018.9)\n",
            "Requirement already satisfied: python-dateutil>=2.7.3 in /usr/local/lib/python3.7/dist-packages (from pandas) (2.8.2)\n",
            "Requirement already satisfied: six>=1.5 in /usr/local/lib/python3.7/dist-packages (from python-dateutil>=2.7.3->pandas) (1.15.0)\n",
            "Requirement already satisfied: pandas-datareader in /usr/local/lib/python3.7/dist-packages (0.10.0)\n",
            "Requirement already satisfied: pandas>=0.23 in /usr/local/lib/python3.7/dist-packages (from pandas-datareader) (1.3.5)\n",
            "Requirement already satisfied: requests>=2.19.0 in /usr/local/lib/python3.7/dist-packages (from pandas-datareader) (2.27.1)\n",
            "Requirement already satisfied: lxml in /usr/local/lib/python3.7/dist-packages (from pandas-datareader) (4.8.0)\n",
            "Requirement already satisfied: pytz>=2017.3 in /usr/local/lib/python3.7/dist-packages (from pandas>=0.23->pandas-datareader) (2018.9)\n",
            "Requirement already satisfied: python-dateutil>=2.7.3 in /usr/local/lib/python3.7/dist-packages (from pandas>=0.23->pandas-datareader) (2.8.2)\n",
            "Requirement already satisfied: numpy>=1.17.3 in /usr/local/lib/python3.7/dist-packages (from pandas>=0.23->pandas-datareader) (1.21.5)\n",
            "Requirement already satisfied: six>=1.5 in /usr/local/lib/python3.7/dist-packages (from python-dateutil>=2.7.3->pandas>=0.23->pandas-datareader) (1.15.0)\n",
            "Requirement already satisfied: urllib3<1.27,>=1.21.1 in /usr/local/lib/python3.7/dist-packages (from requests>=2.19.0->pandas-datareader) (1.24.3)\n",
            "Requirement already satisfied: certifi>=2017.4.17 in /usr/local/lib/python3.7/dist-packages (from requests>=2.19.0->pandas-datareader) (2021.10.8)\n",
            "Requirement already satisfied: charset-normalizer~=2.0.0 in /usr/local/lib/python3.7/dist-packages (from requests>=2.19.0->pandas-datareader) (2.0.12)\n",
            "Requirement already satisfied: idna<4,>=2.5 in /usr/local/lib/python3.7/dist-packages (from requests>=2.19.0->pandas-datareader) (2.10)\n"
          ]
        }
      ]
    },
    {
      "cell_type": "code",
      "source": [
        "import numpy as np\n",
        "import pandas as pd\n",
        "import seaborn as sns\n",
        "import matplotlib.pyplot as plt\n",
        "%matplotlib inline\n",
        "import os\n",
        "\n",
        "\n",
        "import math\n",
        "import yfinance as yf\n",
        "\n",
        "import pandas_datareader as web\n",
        "from sklearn.preprocessing import MinMaxScaler\n",
        "from tensorflow.keras.models import Sequential\n",
        "from tensorflow.keras.layers import Dense, LSTM\n",
        "from tensorflow.keras import optimizers\n",
        "from tensorflow.keras.callbacks import ModelCheckpoint, EarlyStopping"
      ],
      "metadata": {
        "id": "6vHaQ8bP3i2J"
      },
      "execution_count": 66,
      "outputs": []
    },
    {
      "cell_type": "markdown",
      "source": [
        "Get Stock Price, S&P Index, Nasdaq Index price from Yahoo Finance"
      ],
      "metadata": {
        "id": "iXqLrxo1Cah8"
      }
    },
    {
      "cell_type": "code",
      "source": [
        "df_stock = web.DataReader('TSLA', 'yahoo', start='2012-01-01', end='2022-03-20')\n",
        "\n",
        "df_stock"
      ],
      "metadata": {
        "colab": {
          "base_uri": "https://localhost:8080/",
          "height": 455
        },
        "id": "6fCNz2tu3m7T",
        "outputId": "921b8f3f-9022-4aaf-eacd-6102c7ec086d"
      },
      "execution_count": 29,
      "outputs": [
        {
          "output_type": "execute_result",
          "data": {
            "text/plain": [
              "                  High         Low        Open       Close      Volume  \\\n",
              "Date                                                                     \n",
              "2012-01-03    5.900000    5.530000    5.788000    5.616000   4640500.0   \n",
              "2012-01-04    5.734000    5.500000    5.642000    5.542000   3150500.0   \n",
              "2012-01-05    5.586000    5.370000    5.552000    5.424000   5027500.0   \n",
              "2012-01-06    5.558000    5.282000    5.440000    5.382000   4931500.0   \n",
              "2012-01-09    5.498000    5.224000    5.400000    5.450000   4485000.0   \n",
              "...                ...         ...         ...         ...         ...   \n",
              "2022-03-14  800.700012  756.039978  780.609985  766.369995  23717400.0   \n",
              "2022-03-15  805.570007  756.570007  775.270020  801.890015  22280400.0   \n",
              "2022-03-16  842.000000  802.260010  809.000000  840.229980  28009600.0   \n",
              "2022-03-17  875.000000  825.719971  830.989990  871.599976  22194300.0   \n",
              "2022-03-18  907.849976  867.390015  874.489990  905.390015  33408500.0   \n",
              "\n",
              "             Adj Close  \n",
              "Date                    \n",
              "2012-01-03    5.616000  \n",
              "2012-01-04    5.542000  \n",
              "2012-01-05    5.424000  \n",
              "2012-01-06    5.382000  \n",
              "2012-01-09    5.450000  \n",
              "...                ...  \n",
              "2022-03-14  766.369995  \n",
              "2022-03-15  801.890015  \n",
              "2022-03-16  840.229980  \n",
              "2022-03-17  871.599976  \n",
              "2022-03-18  905.390015  \n",
              "\n",
              "[2570 rows x 6 columns]"
            ],
            "text/html": [
              "\n",
              "  <div id=\"df-2e2eeb68-d208-49b7-85ee-a51a9855aed9\">\n",
              "    <div class=\"colab-df-container\">\n",
              "      <div>\n",
              "<style scoped>\n",
              "    .dataframe tbody tr th:only-of-type {\n",
              "        vertical-align: middle;\n",
              "    }\n",
              "\n",
              "    .dataframe tbody tr th {\n",
              "        vertical-align: top;\n",
              "    }\n",
              "\n",
              "    .dataframe thead th {\n",
              "        text-align: right;\n",
              "    }\n",
              "</style>\n",
              "<table border=\"1\" class=\"dataframe\">\n",
              "  <thead>\n",
              "    <tr style=\"text-align: right;\">\n",
              "      <th></th>\n",
              "      <th>High</th>\n",
              "      <th>Low</th>\n",
              "      <th>Open</th>\n",
              "      <th>Close</th>\n",
              "      <th>Volume</th>\n",
              "      <th>Adj Close</th>\n",
              "    </tr>\n",
              "    <tr>\n",
              "      <th>Date</th>\n",
              "      <th></th>\n",
              "      <th></th>\n",
              "      <th></th>\n",
              "      <th></th>\n",
              "      <th></th>\n",
              "      <th></th>\n",
              "    </tr>\n",
              "  </thead>\n",
              "  <tbody>\n",
              "    <tr>\n",
              "      <th>2012-01-03</th>\n",
              "      <td>5.900000</td>\n",
              "      <td>5.530000</td>\n",
              "      <td>5.788000</td>\n",
              "      <td>5.616000</td>\n",
              "      <td>4640500.0</td>\n",
              "      <td>5.616000</td>\n",
              "    </tr>\n",
              "    <tr>\n",
              "      <th>2012-01-04</th>\n",
              "      <td>5.734000</td>\n",
              "      <td>5.500000</td>\n",
              "      <td>5.642000</td>\n",
              "      <td>5.542000</td>\n",
              "      <td>3150500.0</td>\n",
              "      <td>5.542000</td>\n",
              "    </tr>\n",
              "    <tr>\n",
              "      <th>2012-01-05</th>\n",
              "      <td>5.586000</td>\n",
              "      <td>5.370000</td>\n",
              "      <td>5.552000</td>\n",
              "      <td>5.424000</td>\n",
              "      <td>5027500.0</td>\n",
              "      <td>5.424000</td>\n",
              "    </tr>\n",
              "    <tr>\n",
              "      <th>2012-01-06</th>\n",
              "      <td>5.558000</td>\n",
              "      <td>5.282000</td>\n",
              "      <td>5.440000</td>\n",
              "      <td>5.382000</td>\n",
              "      <td>4931500.0</td>\n",
              "      <td>5.382000</td>\n",
              "    </tr>\n",
              "    <tr>\n",
              "      <th>2012-01-09</th>\n",
              "      <td>5.498000</td>\n",
              "      <td>5.224000</td>\n",
              "      <td>5.400000</td>\n",
              "      <td>5.450000</td>\n",
              "      <td>4485000.0</td>\n",
              "      <td>5.450000</td>\n",
              "    </tr>\n",
              "    <tr>\n",
              "      <th>...</th>\n",
              "      <td>...</td>\n",
              "      <td>...</td>\n",
              "      <td>...</td>\n",
              "      <td>...</td>\n",
              "      <td>...</td>\n",
              "      <td>...</td>\n",
              "    </tr>\n",
              "    <tr>\n",
              "      <th>2022-03-14</th>\n",
              "      <td>800.700012</td>\n",
              "      <td>756.039978</td>\n",
              "      <td>780.609985</td>\n",
              "      <td>766.369995</td>\n",
              "      <td>23717400.0</td>\n",
              "      <td>766.369995</td>\n",
              "    </tr>\n",
              "    <tr>\n",
              "      <th>2022-03-15</th>\n",
              "      <td>805.570007</td>\n",
              "      <td>756.570007</td>\n",
              "      <td>775.270020</td>\n",
              "      <td>801.890015</td>\n",
              "      <td>22280400.0</td>\n",
              "      <td>801.890015</td>\n",
              "    </tr>\n",
              "    <tr>\n",
              "      <th>2022-03-16</th>\n",
              "      <td>842.000000</td>\n",
              "      <td>802.260010</td>\n",
              "      <td>809.000000</td>\n",
              "      <td>840.229980</td>\n",
              "      <td>28009600.0</td>\n",
              "      <td>840.229980</td>\n",
              "    </tr>\n",
              "    <tr>\n",
              "      <th>2022-03-17</th>\n",
              "      <td>875.000000</td>\n",
              "      <td>825.719971</td>\n",
              "      <td>830.989990</td>\n",
              "      <td>871.599976</td>\n",
              "      <td>22194300.0</td>\n",
              "      <td>871.599976</td>\n",
              "    </tr>\n",
              "    <tr>\n",
              "      <th>2022-03-18</th>\n",
              "      <td>907.849976</td>\n",
              "      <td>867.390015</td>\n",
              "      <td>874.489990</td>\n",
              "      <td>905.390015</td>\n",
              "      <td>33408500.0</td>\n",
              "      <td>905.390015</td>\n",
              "    </tr>\n",
              "  </tbody>\n",
              "</table>\n",
              "<p>2570 rows × 6 columns</p>\n",
              "</div>\n",
              "      <button class=\"colab-df-convert\" onclick=\"convertToInteractive('df-2e2eeb68-d208-49b7-85ee-a51a9855aed9')\"\n",
              "              title=\"Convert this dataframe to an interactive table.\"\n",
              "              style=\"display:none;\">\n",
              "        \n",
              "  <svg xmlns=\"http://www.w3.org/2000/svg\" height=\"24px\"viewBox=\"0 0 24 24\"\n",
              "       width=\"24px\">\n",
              "    <path d=\"M0 0h24v24H0V0z\" fill=\"none\"/>\n",
              "    <path d=\"M18.56 5.44l.94 2.06.94-2.06 2.06-.94-2.06-.94-.94-2.06-.94 2.06-2.06.94zm-11 1L8.5 8.5l.94-2.06 2.06-.94-2.06-.94L8.5 2.5l-.94 2.06-2.06.94zm10 10l.94 2.06.94-2.06 2.06-.94-2.06-.94-.94-2.06-.94 2.06-2.06.94z\"/><path d=\"M17.41 7.96l-1.37-1.37c-.4-.4-.92-.59-1.43-.59-.52 0-1.04.2-1.43.59L10.3 9.45l-7.72 7.72c-.78.78-.78 2.05 0 2.83L4 21.41c.39.39.9.59 1.41.59.51 0 1.02-.2 1.41-.59l7.78-7.78 2.81-2.81c.8-.78.8-2.07 0-2.86zM5.41 20L4 18.59l7.72-7.72 1.47 1.35L5.41 20z\"/>\n",
              "  </svg>\n",
              "      </button>\n",
              "      \n",
              "  <style>\n",
              "    .colab-df-container {\n",
              "      display:flex;\n",
              "      flex-wrap:wrap;\n",
              "      gap: 12px;\n",
              "    }\n",
              "\n",
              "    .colab-df-convert {\n",
              "      background-color: #E8F0FE;\n",
              "      border: none;\n",
              "      border-radius: 50%;\n",
              "      cursor: pointer;\n",
              "      display: none;\n",
              "      fill: #1967D2;\n",
              "      height: 32px;\n",
              "      padding: 0 0 0 0;\n",
              "      width: 32px;\n",
              "    }\n",
              "\n",
              "    .colab-df-convert:hover {\n",
              "      background-color: #E2EBFA;\n",
              "      box-shadow: 0px 1px 2px rgba(60, 64, 67, 0.3), 0px 1px 3px 1px rgba(60, 64, 67, 0.15);\n",
              "      fill: #174EA6;\n",
              "    }\n",
              "\n",
              "    [theme=dark] .colab-df-convert {\n",
              "      background-color: #3B4455;\n",
              "      fill: #D2E3FC;\n",
              "    }\n",
              "\n",
              "    [theme=dark] .colab-df-convert:hover {\n",
              "      background-color: #434B5C;\n",
              "      box-shadow: 0px 1px 3px 1px rgba(0, 0, 0, 0.15);\n",
              "      filter: drop-shadow(0px 1px 2px rgba(0, 0, 0, 0.3));\n",
              "      fill: #FFFFFF;\n",
              "    }\n",
              "  </style>\n",
              "\n",
              "      <script>\n",
              "        const buttonEl =\n",
              "          document.querySelector('#df-2e2eeb68-d208-49b7-85ee-a51a9855aed9 button.colab-df-convert');\n",
              "        buttonEl.style.display =\n",
              "          google.colab.kernel.accessAllowed ? 'block' : 'none';\n",
              "\n",
              "        async function convertToInteractive(key) {\n",
              "          const element = document.querySelector('#df-2e2eeb68-d208-49b7-85ee-a51a9855aed9');\n",
              "          const dataTable =\n",
              "            await google.colab.kernel.invokeFunction('convertToInteractive',\n",
              "                                                     [key], {});\n",
              "          if (!dataTable) return;\n",
              "\n",
              "          const docLinkHtml = 'Like what you see? Visit the ' +\n",
              "            '<a target=\"_blank\" href=https://colab.research.google.com/notebooks/data_table.ipynb>data table notebook</a>'\n",
              "            + ' to learn more about interactive tables.';\n",
              "          element.innerHTML = '';\n",
              "          dataTable['output_type'] = 'display_data';\n",
              "          await google.colab.output.renderOutput(dataTable, element);\n",
              "          const docLink = document.createElement('div');\n",
              "          docLink.innerHTML = docLinkHtml;\n",
              "          element.appendChild(docLink);\n",
              "        }\n",
              "      </script>\n",
              "    </div>\n",
              "  </div>\n",
              "  "
            ]
          },
          "metadata": {},
          "execution_count": 29
        }
      ]
    },
    {
      "cell_type": "code",
      "source": [
        "plt.figure(figsize=(12,8))\n",
        "plt.title('Closing Price History')\n",
        "plt.plot(df_stock['Close'], lw=1)\n",
        "plt.xlabel('Date')\n",
        "plt.ylabel('Stock Price ($)')"
      ],
      "metadata": {
        "colab": {
          "base_uri": "https://localhost:8080/",
          "height": 531
        },
        "id": "qVr_hyi0-2B-",
        "outputId": "c060b1bb-e834-4b45-a785-93e6cb3f99ef"
      },
      "execution_count": 30,
      "outputs": [
        {
          "output_type": "execute_result",
          "data": {
            "text/plain": [
              "Text(0, 0.5, 'Stock Price ($)')"
            ]
          },
          "metadata": {},
          "execution_count": 30
        },
        {
          "output_type": "display_data",
          "data": {
            "text/plain": [
              "<Figure size 864x576 with 1 Axes>"
            ],
            "image/png": "[encoded data removed]"
          },
          "metadata": {
            "needs_background": "light"
          }
        }
      ]
    },
    {
      "cell_type": "code",
      "source": [
        "df_snp = web.DataReader('^GSPC', 'yahoo', start='2012-01-01', end='2022-03-20')\n",
        "\n",
        "df_snp"
      ],
      "metadata": {
        "colab": {
          "base_uri": "https://localhost:8080/",
          "height": 455
        },
        "id": "8XNHKVso3tbf",
        "outputId": "2b8d170e-6268-4cfe-e85d-178bfa3f28ee"
      },
      "execution_count": 31,
      "outputs": [
        {
          "output_type": "execute_result",
          "data": {
            "text/plain": [
              "                   High          Low         Open        Close      Volume  \\\n",
              "Date                                                                         \n",
              "2012-01-03  1284.619995  1258.859985  1258.859985  1277.060059  3943710000   \n",
              "2012-01-04  1278.729980  1268.099976  1277.030029  1277.300049  3592580000   \n",
              "2012-01-05  1283.050049  1265.260010  1277.300049  1281.060059  4315950000   \n",
              "2012-01-06  1281.839966  1273.339966  1280.930054  1277.810059  3656830000   \n",
              "2012-01-09  1281.989990  1274.550049  1277.829956  1280.699951  3371600000   \n",
              "...                 ...          ...          ...          ...         ...   \n",
              "2022-03-14  4247.569824  4161.720215  4202.750000  4173.109863  4757600000   \n",
              "2022-03-15  4271.049805  4187.899902  4188.819824  4262.450195  4331170000   \n",
              "2022-03-16  4358.899902  4251.990234  4288.140137  4357.859863  5002240000   \n",
              "2022-03-17  4412.669922  4335.649902  4345.109863  4411.669922  4174170000   \n",
              "2022-03-18  4465.399902  4390.569824  4407.339844  4463.120117  6681510000   \n",
              "\n",
              "              Adj Close  \n",
              "Date                     \n",
              "2012-01-03  1277.060059  \n",
              "2012-01-04  1277.300049  \n",
              "2012-01-05  1281.060059  \n",
              "2012-01-06  1277.810059  \n",
              "2012-01-09  1280.699951  \n",
              "...                 ...  \n",
              "2022-03-14  4173.109863  \n",
              "2022-03-15  4262.450195  \n",
              "2022-03-16  4357.859863  \n",
              "2022-03-17  4411.669922  \n",
              "2022-03-18  4463.120117  \n",
              "\n",
              "[2570 rows x 6 columns]"
            ],
            "text/html": [
              "\n",
              "  <div id=\"df-08513e58-22e7-4871-ac4f-1b2a628f9c3f\">\n",
              "    <div class=\"colab-df-container\">\n",
              "      <div>\n",
              "<style scoped>\n",
              "    .dataframe tbody tr th:only-of-type {\n",
              "        vertical-align: middle;\n",
              "    }\n",
              "\n",
              "    .dataframe tbody tr th {\n",
              "        vertical-align: top;\n",
              "    }\n",
              "\n",
              "    .dataframe thead th {\n",
              "        text-align: right;\n",
              "    }\n",
              "</style>\n",
              "<table border=\"1\" class=\"dataframe\">\n",
              "  <thead>\n",
              "    <tr style=\"text-align: right;\">\n",
              "      <th></th>\n",
              "      <th>High</th>\n",
              "      <th>Low</th>\n",
              "      <th>Open</th>\n",
              "      <th>Close</th>\n",
              "      <th>Volume</th>\n",
              "      <th>Adj Close</th>\n",
              "    </tr>\n",
              "    <tr>\n",
              "      <th>Date</th>\n",
              "      <th></th>\n",
              "      <th></th>\n",
              "      <th></th>\n",
              "      <th></th>\n",
              "      <th></th>\n",
              "      <th></th>\n",
              "    </tr>\n",
              "  </thead>\n",
              "  <tbody>\n",
              "    <tr>\n",
              "      <th>2012-01-03</th>\n",
              "      <td>1284.619995</td>\n",
              "      <td>1258.859985</td>\n",
              "      <td>1258.859985</td>\n",
              "      <td>1277.060059</td>\n",
              "      <td>3943710000</td>\n",
              "      <td>1277.060059</td>\n",
              "    </tr>\n",
              "    <tr>\n",
              "      <th>2012-01-04</th>\n",
              "      <td>1278.729980</td>\n",
              "      <td>1268.099976</td>\n",
              "      <td>1277.030029</td>\n",
              "      <td>1277.300049</td>\n",
              "      <td>3592580000</td>\n",
              "      <td>1277.300049</td>\n",
              "    </tr>\n",
              "    <tr>\n",
              "      <th>2012-01-05</th>\n",
              "      <td>1283.050049</td>\n",
              "      <td>1265.260010</td>\n",
              "      <td>1277.300049</td>\n",
              "      <td>1281.060059</td>\n",
              "      <td>4315950000</td>\n",
              "      <td>1281.060059</td>\n",
              "    </tr>\n",
              "    <tr>\n",
              "      <th>2012-01-06</th>\n",
              "      <td>1281.839966</td>\n",
              "      <td>1273.339966</td>\n",
              "      <td>1280.930054</td>\n",
              "      <td>1277.810059</td>\n",
              "      <td>3656830000</td>\n",
              "      <td>1277.810059</td>\n",
              "    </tr>\n",
              "    <tr>\n",
              "      <th>2012-01-09</th>\n",
              "      <td>1281.989990</td>\n",
              "      <td>1274.550049</td>\n",
              "      <td>1277.829956</td>\n",
              "      <td>1280.699951</td>\n",
              "      <td>3371600000</td>\n",
              "      <td>1280.699951</td>\n",
              "    </tr>\n",
              "    <tr>\n",
              "      <th>...</th>\n",
              "      <td>...</td>\n",
              "      <td>...</td>\n",
              "      <td>...</td>\n",
              "      <td>...</td>\n",
              "      <td>...</td>\n",
              "      <td>...</td>\n",
              "    </tr>\n",
              "    <tr>\n",
              "      <th>2022-03-14</th>\n",
              "      <td>4247.569824</td>\n",
              "      <td>4161.720215</td>\n",
              "      <td>4202.750000</td>\n",
              "      <td>4173.109863</td>\n",
              "      <td>4757600000</td>\n",
              "      <td>4173.109863</td>\n",
              "    </tr>\n",
              "    <tr>\n",
              "      <th>2022-03-15</th>\n",
              "      <td>4271.049805</td>\n",
              "      <td>4187.899902</td>\n",
              "      <td>4188.819824</td>\n",
              "      <td>4262.450195</td>\n",
              "      <td>4331170000</td>\n",
              "      <td>4262.450195</td>\n",
              "    </tr>\n",
              "    <tr>\n",
              "      <th>2022-03-16</th>\n",
              "      <td>4358.899902</td>\n",
              "      <td>4251.990234</td>\n",
              "      <td>4288.140137</td>\n",
              "      <td>4357.859863</td>\n",
              "      <td>5002240000</td>\n",
              "      <td>4357.859863</td>\n",
              "    </tr>\n",
              "    <tr>\n",
              "      <th>2022-03-17</th>\n",
              "      <td>4412.669922</td>\n",
              "      <td>4335.649902</td>\n",
              "      <td>4345.109863</td>\n",
              "      <td>4411.669922</td>\n",
              "      <td>4174170000</td>\n",
              "      <td>4411.669922</td>\n",
              "    </tr>\n",
              "    <tr>\n",
              "      <th>2022-03-18</th>\n",
              "      <td>4465.399902</td>\n",
              "      <td>4390.569824</td>\n",
              "      <td>4407.339844</td>\n",
              "      <td>4463.120117</td>\n",
              "      <td>6681510000</td>\n",
              "      <td>4463.120117</td>\n",
              "    </tr>\n",
              "  </tbody>\n",
              "</table>\n",
              "<p>2570 rows × 6 columns</p>\n",
              "</div>\n",
              "      <button class=\"colab-df-convert\" onclick=\"convertToInteractive('df-08513e58-22e7-4871-ac4f-1b2a628f9c3f')\"\n",
              "              title=\"Convert this dataframe to an interactive table.\"\n",
              "              style=\"display:none;\">\n",
              "        \n",
              "  <svg xmlns=\"http://www.w3.org/2000/svg\" height=\"24px\"viewBox=\"0 0 24 24\"\n",
              "       width=\"24px\">\n",
              "    <path d=\"M0 0h24v24H0V0z\" fill=\"none\"/>\n",
              "    <path d=\"M18.56 5.44l.94 2.06.94-2.06 2.06-.94-2.06-.94-.94-2.06-.94 2.06-2.06.94zm-11 1L8.5 8.5l.94-2.06 2.06-.94-2.06-.94L8.5 2.5l-.94 2.06-2.06.94zm10 10l.94 2.06.94-2.06 2.06-.94-2.06-.94-.94-2.06-.94 2.06-2.06.94z\"/><path d=\"M17.41 7.96l-1.37-1.37c-.4-.4-.92-.59-1.43-.59-.52 0-1.04.2-1.43.59L10.3 9.45l-7.72 7.72c-.78.78-.78 2.05 0 2.83L4 21.41c.39.39.9.59 1.41.59.51 0 1.02-.2 1.41-.59l7.78-7.78 2.81-2.81c.8-.78.8-2.07 0-2.86zM5.41 20L4 18.59l7.72-7.72 1.47 1.35L5.41 20z\"/>\n",
              "  </svg>\n",
              "      </button>\n",
              "      \n",
              "  <style>\n",
              "    .colab-df-container {\n",
              "      display:flex;\n",
              "      flex-wrap:wrap;\n",
              "      gap: 12px;\n",
              "    }\n",
              "\n",
              "    .colab-df-convert {\n",
              "      background-color: #E8F0FE;\n",
              "      border: none;\n",
              "      border-radius: 50%;\n",
              "      cursor: pointer;\n",
              "      display: none;\n",
              "      fill: #1967D2;\n",
              "      height: 32px;\n",
              "      padding: 0 0 0 0;\n",
              "      width: 32px;\n",
              "    }\n",
              "\n",
              "    .colab-df-convert:hover {\n",
              "      background-color: #E2EBFA;\n",
              "      box-shadow: 0px 1px 2px rgba(60, 64, 67, 0.3), 0px 1px 3px 1px rgba(60, 64, 67, 0.15);\n",
              "      fill: #174EA6;\n",
              "    }\n",
              "\n",
              "    [theme=dark] .colab-df-convert {\n",
              "      background-color: #3B4455;\n",
              "      fill: #D2E3FC;\n",
              "    }\n",
              "\n",
              "    [theme=dark] .colab-df-convert:hover {\n",
              "      background-color: #434B5C;\n",
              "      box-shadow: 0px 1px 3px 1px rgba(0, 0, 0, 0.15);\n",
              "      filter: drop-shadow(0px 1px 2px rgba(0, 0, 0, 0.3));\n",
              "      fill: #FFFFFF;\n",
              "    }\n",
              "  </style>\n",
              "\n",
              "      <script>\n",
              "        const buttonEl =\n",
              "          document.querySelector('#df-08513e58-22e7-4871-ac4f-1b2a628f9c3f button.colab-df-convert');\n",
              "        buttonEl.style.display =\n",
              "          google.colab.kernel.accessAllowed ? 'block' : 'none';\n",
              "\n",
              "        async function convertToInteractive(key) {\n",
              "          const element = document.querySelector('#df-08513e58-22e7-4871-ac4f-1b2a628f9c3f');\n",
              "          const dataTable =\n",
              "            await google.colab.kernel.invokeFunction('convertToInteractive',\n",
              "                                                     [key], {});\n",
              "          if (!dataTable) return;\n",
              "\n",
              "          const docLinkHtml = 'Like what you see? Visit the ' +\n",
              "            '<a target=\"_blank\" href=https://colab.research.google.com/notebooks/data_table.ipynb>data table notebook</a>'\n",
              "            + ' to learn more about interactive tables.';\n",
              "          element.innerHTML = '';\n",
              "          dataTable['output_type'] = 'display_data';\n",
              "          await google.colab.output.renderOutput(dataTable, element);\n",
              "          const docLink = document.createElement('div');\n",
              "          docLink.innerHTML = docLinkHtml;\n",
              "          element.appendChild(docLink);\n",
              "        }\n",
              "      </script>\n",
              "    </div>\n",
              "  </div>\n",
              "  "
            ]
          },
          "metadata": {},
          "execution_count": 31
        }
      ]
    },
    {
      "cell_type": "code",
      "source": [
        "plt.figure(figsize=(12,8))\n",
        "plt.title('Closing Price History')\n",
        "plt.plot(df_snp['Close'], lw=1)\n",
        "plt.xlabel('Date')\n",
        "plt.ylabel('Stock Price ($)')"
      ],
      "metadata": {
        "colab": {
          "base_uri": "https://localhost:8080/",
          "height": 531
        },
        "id": "0E1Vv9uv-6aZ",
        "outputId": "23432e6b-cb03-458c-95a6-321f867e6913"
      },
      "execution_count": 32,
      "outputs": [
        {
          "output_type": "execute_result",
          "data": {
            "text/plain": [
              "Text(0, 0.5, 'Stock Price ($)')"
            ]
          },
          "metadata": {},
          "execution_count": 32
        },
        {
          "output_type": "display_data",
          "data": {
            "text/plain": [
              "<Figure size 864x576 with 1 Axes>"
            ],
            "image/png": "[encoded data removed]"
          },
          "metadata": {
            "needs_background": "light"
          }
        }
      ]
    },
    {
      "cell_type": "code",
      "source": [
        "df_nasdaq = web.DataReader('^IXIC', 'yahoo', start='2012-01-01', end='2022-03-20')\n",
        "\n",
        "df_nasdaq"
      ],
      "metadata": {
        "colab": {
          "base_uri": "https://localhost:8080/",
          "height": 455
        },
        "id": "6HO_JLtX5jwv",
        "outputId": "b72b5303-f691-43b6-ff4b-4d7e12e21b63"
      },
      "execution_count": 33,
      "outputs": [
        {
          "output_type": "execute_result",
          "data": {
            "text/plain": [
              "                    High           Low          Open         Close  \\\n",
              "Date                                                                 \n",
              "2012-01-03   2665.899902   2641.979980   2657.389893   2648.719971   \n",
              "2012-01-04   2653.179932   2627.229980   2639.899902   2648.360107   \n",
              "2012-01-05   2673.560059   2631.229980   2642.570068   2669.860107   \n",
              "2012-01-06   2682.120117   2658.830078   2671.169922   2674.219971   \n",
              "2012-01-09   2683.780029   2662.959961   2682.979980   2676.560059   \n",
              "...                  ...           ...           ...           ...   \n",
              "2022-03-14  12918.009766  12555.349609  12795.120117  12581.219727   \n",
              "2022-03-15  12973.879883  12616.589844  12685.230469  12948.620117   \n",
              "2022-03-16  13440.120117  12992.200195  13119.370117  13436.549805   \n",
              "2022-03-17  13620.799805  13317.139648  13360.719727  13614.780273   \n",
              "2022-03-18  13899.280273  13528.059570  13564.629883  13893.839844   \n",
              "\n",
              "                Volume     Adj Close  \n",
              "Date                                  \n",
              "2012-01-03  1636850000   2648.719971  \n",
              "2012-01-04  1670530000   2648.360107  \n",
              "2012-01-05  1836410000   2669.860107  \n",
              "2012-01-06  1683090000   2674.219971  \n",
              "2012-01-09  1768080000   2676.560059  \n",
              "...                ...           ...  \n",
              "2022-03-14  5853360000  12581.219727  \n",
              "2022-03-15  5414590000  12948.620117  \n",
              "2022-03-16  6498110000  13436.549805  \n",
              "2022-03-17  5575030000  13614.780273  \n",
              "2022-03-18  8109950000  13893.839844  \n",
              "\n",
              "[2570 rows x 6 columns]"
            ],
            "text/html": [
              "\n",
              "  <div id=\"df-b87e231e-20d0-4d02-a964-7041be5016ce\">\n",
              "    <div class=\"colab-df-container\">\n",
              "      <div>\n",
              "<style scoped>\n",
              "    .dataframe tbody tr th:only-of-type {\n",
              "        vertical-align: middle;\n",
              "    }\n",
              "\n",
              "    .dataframe tbody tr th {\n",
              "        vertical-align: top;\n",
              "    }\n",
              "\n",
              "    .dataframe thead th {\n",
              "        text-align: right;\n",
              "    }\n",
              "</style>\n",
              "<table border=\"1\" class=\"dataframe\">\n",
              "  <thead>\n",
              "    <tr style=\"text-align: right;\">\n",
              "      <th></th>\n",
              "      <th>High</th>\n",
              "      <th>Low</th>\n",
              "      <th>Open</th>\n",
              "      <th>Close</th>\n",
              "      <th>Volume</th>\n",
              "      <th>Adj Close</th>\n",
              "    </tr>\n",
              "    <tr>\n",
              "      <th>Date</th>\n",
              "      <th></th>\n",
              "      <th></th>\n",
              "      <th></th>\n",
              "      <th></th>\n",
              "      <th></th>\n",
              "      <th></th>\n",
              "    </tr>\n",
              "  </thead>\n",
              "  <tbody>\n",
              "    <tr>\n",
              "      <th>2012-01-03</th>\n",
              "      <td>2665.899902</td>\n",
              "      <td>2641.979980</td>\n",
              "      <td>2657.389893</td>\n",
              "      <td>2648.719971</td>\n",
              "      <td>1636850000</td>\n",
              "      <td>2648.719971</td>\n",
              "    </tr>\n",
              "    <tr>\n",
              "      <th>2012-01-04</th>\n",
              "      <td>2653.179932</td>\n",
              "      <td>2627.229980</td>\n",
              "      <td>2639.899902</td>\n",
              "      <td>2648.360107</td>\n",
              "      <td>1670530000</td>\n",
              "      <td>2648.360107</td>\n",
              "    </tr>\n",
              "    <tr>\n",
              "      <th>2012-01-05</th>\n",
              "      <td>2673.560059</td>\n",
              "      <td>2631.229980</td>\n",
              "      <td>2642.570068</td>\n",
              "      <td>2669.860107</td>\n",
              "      <td>1836410000</td>\n",
              "      <td>2669.860107</td>\n",
              "    </tr>\n",
              "    <tr>\n",
              "      <th>2012-01-06</th>\n",
              "      <td>2682.120117</td>\n",
              "      <td>2658.830078</td>\n",
              "      <td>2671.169922</td>\n",
              "      <td>2674.219971</td>\n",
              "      <td>1683090000</td>\n",
              "      <td>2674.219971</td>\n",
              "    </tr>\n",
              "    <tr>\n",
              "      <th>2012-01-09</th>\n",
              "      <td>2683.780029</td>\n",
              "      <td>2662.959961</td>\n",
              "      <td>2682.979980</td>\n",
              "      <td>2676.560059</td>\n",
              "      <td>1768080000</td>\n",
              "      <td>2676.560059</td>\n",
              "    </tr>\n",
              "    <tr>\n",
              "      <th>...</th>\n",
              "      <td>...</td>\n",
              "      <td>...</td>\n",
              "      <td>...</td>\n",
              "      <td>...</td>\n",
              "      <td>...</td>\n",
              "      <td>...</td>\n",
              "    </tr>\n",
              "    <tr>\n",
              "      <th>2022-03-14</th>\n",
              "      <td>12918.009766</td>\n",
              "      <td>12555.349609</td>\n",
              "      <td>12795.120117</td>\n",
              "      <td>12581.219727</td>\n",
              "      <td>5853360000</td>\n",
              "      <td>12581.219727</td>\n",
              "    </tr>\n",
              "    <tr>\n",
              "      <th>2022-03-15</th>\n",
              "      <td>12973.879883</td>\n",
              "      <td>12616.589844</td>\n",
              "      <td>12685.230469</td>\n",
              "      <td>12948.620117</td>\n",
              "      <td>5414590000</td>\n",
              "      <td>12948.620117</td>\n",
              "    </tr>\n",
              "    <tr>\n",
              "      <th>2022-03-16</th>\n",
              "      <td>13440.120117</td>\n",
              "      <td>12992.200195</td>\n",
              "      <td>13119.370117</td>\n",
              "      <td>13436.549805</td>\n",
              "      <td>6498110000</td>\n",
              "      <td>13436.549805</td>\n",
              "    </tr>\n",
              "    <tr>\n",
              "      <th>2022-03-17</th>\n",
              "      <td>13620.799805</td>\n",
              "      <td>13317.139648</td>\n",
              "      <td>13360.719727</td>\n",
              "      <td>13614.780273</td>\n",
              "      <td>5575030000</td>\n",
              "      <td>13614.780273</td>\n",
              "    </tr>\n",
              "    <tr>\n",
              "      <th>2022-03-18</th>\n",
              "      <td>13899.280273</td>\n",
              "      <td>13528.059570</td>\n",
              "      <td>13564.629883</td>\n",
              "      <td>13893.839844</td>\n",
              "      <td>8109950000</td>\n",
              "      <td>13893.839844</td>\n",
              "    </tr>\n",
              "  </tbody>\n",
              "</table>\n",
              "<p>2570 rows × 6 columns</p>\n",
              "</div>\n",
              "      <button class=\"colab-df-convert\" onclick=\"convertToInteractive('df-b87e231e-20d0-4d02-a964-7041be5016ce')\"\n",
              "              title=\"Convert this dataframe to an interactive table.\"\n",
              "              style=\"display:none;\">\n",
              "        \n",
              "  <svg xmlns=\"http://www.w3.org/2000/svg\" height=\"24px\"viewBox=\"0 0 24 24\"\n",
              "       width=\"24px\">\n",
              "    <path d=\"M0 0h24v24H0V0z\" fill=\"none\"/>\n",
              "    <path d=\"M18.56 5.44l.94 2.06.94-2.06 2.06-.94-2.06-.94-.94-2.06-.94 2.06-2.06.94zm-11 1L8.5 8.5l.94-2.06 2.06-.94-2.06-.94L8.5 2.5l-.94 2.06-2.06.94zm10 10l.94 2.06.94-2.06 2.06-.94-2.06-.94-.94-2.06-.94 2.06-2.06.94z\"/><path d=\"M17.41 7.96l-1.37-1.37c-.4-.4-.92-.59-1.43-.59-.52 0-1.04.2-1.43.59L10.3 9.45l-7.72 7.72c-.78.78-.78 2.05 0 2.83L4 21.41c.39.39.9.59 1.41.59.51 0 1.02-.2 1.41-.59l7.78-7.78 2.81-2.81c.8-.78.8-2.07 0-2.86zM5.41 20L4 18.59l7.72-7.72 1.47 1.35L5.41 20z\"/>\n",
              "  </svg>\n",
              "      </button>\n",
              "      \n",
              "  <style>\n",
              "    .colab-df-container {\n",
              "      display:flex;\n",
              "      flex-wrap:wrap;\n",
              "      gap: 12px;\n",
              "    }\n",
              "\n",
              "    .colab-df-convert {\n",
              "      background-color: #E8F0FE;\n",
              "      border: none;\n",
              "      border-radius: 50%;\n",
              "      cursor: pointer;\n",
              "      display: none;\n",
              "      fill: #1967D2;\n",
              "      height: 32px;\n",
              "      padding: 0 0 0 0;\n",
              "      width: 32px;\n",
              "    }\n",
              "\n",
              "    .colab-df-convert:hover {\n",
              "      background-color: #E2EBFA;\n",
              "      box-shadow: 0px 1px 2px rgba(60, 64, 67, 0.3), 0px 1px 3px 1px rgba(60, 64, 67, 0.15);\n",
              "      fill: #174EA6;\n",
              "    }\n",
              "\n",
              "    [theme=dark] .colab-df-convert {\n",
              "      background-color: #3B4455;\n",
              "      fill: #D2E3FC;\n",
              "    }\n",
              "\n",
              "    [theme=dark] .colab-df-convert:hover {\n",
              "      background-color: #434B5C;\n",
              "      box-shadow: 0px 1px 3px 1px rgba(0, 0, 0, 0.15);\n",
              "      filter: drop-shadow(0px 1px 2px rgba(0, 0, 0, 0.3));\n",
              "      fill: #FFFFFF;\n",
              "    }\n",
              "  </style>\n",
              "\n",
              "      <script>\n",
              "        const buttonEl =\n",
              "          document.querySelector('#df-b87e231e-20d0-4d02-a964-7041be5016ce button.colab-df-convert');\n",
              "        buttonEl.style.display =\n",
              "          google.colab.kernel.accessAllowed ? 'block' : 'none';\n",
              "\n",
              "        async function convertToInteractive(key) {\n",
              "          const element = document.querySelector('#df-b87e231e-20d0-4d02-a964-7041be5016ce');\n",
              "          const dataTable =\n",
              "            await google.colab.kernel.invokeFunction('convertToInteractive',\n",
              "                                                     [key], {});\n",
              "          if (!dataTable) return;\n",
              "\n",
              "          const docLinkHtml = 'Like what you see? Visit the ' +\n",
              "            '<a target=\"_blank\" href=https://colab.research.google.com/notebooks/data_table.ipynb>data table notebook</a>'\n",
              "            + ' to learn more about interactive tables.';\n",
              "          element.innerHTML = '';\n",
              "          dataTable['output_type'] = 'display_data';\n",
              "          await google.colab.output.renderOutput(dataTable, element);\n",
              "          const docLink = document.createElement('div');\n",
              "          docLink.innerHTML = docLinkHtml;\n",
              "          element.appendChild(docLink);\n",
              "        }\n",
              "      </script>\n",
              "    </div>\n",
              "  </div>\n",
              "  "
            ]
          },
          "metadata": {},
          "execution_count": 33
        }
      ]
    },
    {
      "cell_type": "code",
      "source": [
        "plt.figure(figsize=(12,8))\n",
        "plt.title('Closing Price History')\n",
        "plt.plot(df_nasdaq['Close'], lw=1)\n",
        "plt.xlabel('Date')\n",
        "plt.ylabel('Stock Price ($)')"
      ],
      "metadata": {
        "colab": {
          "base_uri": "https://localhost:8080/",
          "height": 531
        },
        "id": "ujGjEcPv_I1D",
        "outputId": "3c62f388-fbb6-486a-e2b1-c93d32b6c467"
      },
      "execution_count": 34,
      "outputs": [
        {
          "output_type": "execute_result",
          "data": {
            "text/plain": [
              "Text(0, 0.5, 'Stock Price ($)')"
            ]
          },
          "metadata": {},
          "execution_count": 34
        },
        {
          "output_type": "display_data",
          "data": {
            "text/plain": [
              "<Figure size 864x576 with 1 Axes>"
            ],
            "image/png": "[encoded data removed]"
          },
          "metadata": {
            "needs_background": "light"
          }
        }
      ]
    },
    {
      "cell_type": "code",
      "source": [
        "df['Close_Stock'] = df_stock.filter(['Close'])\n",
        "#df = df.drop('Close', axis=1)\n",
        "df['CLose_S&P'] = df_snp.filter(['Close'])\n",
        "df['CLose_Nasdaq'] = df_nasdaq.filter(['Close'])\n",
        "df"
      ],
      "metadata": {
        "colab": {
          "base_uri": "https://localhost:8080/",
          "height": 455
        },
        "id": "lzPi4kxd_oR9",
        "outputId": "532c7a87-b33f-4912-d509-9d1530a02184"
      },
      "execution_count": 43,
      "outputs": [
        {
          "output_type": "execute_result",
          "data": {
            "text/plain": [
              "            Close_Stock    CLose_S&P  CLose_Nasdaq\n",
              "Date                                              \n",
              "2012-01-03     5.616000  1277.060059   2648.719971\n",
              "2012-01-04     5.542000  1277.300049   2648.360107\n",
              "2012-01-05     5.424000  1281.060059   2669.860107\n",
              "2012-01-06     5.382000  1277.810059   2674.219971\n",
              "2012-01-09     5.450000  1280.699951   2676.560059\n",
              "...                 ...          ...           ...\n",
              "2022-03-14   766.369995  4173.109863  12581.219727\n",
              "2022-03-15   801.890015  4262.450195  12948.620117\n",
              "2022-03-16   840.229980  4357.859863  13436.549805\n",
              "2022-03-17   871.599976  4411.669922  13614.780273\n",
              "2022-03-18   905.390015  4463.120117  13893.839844\n",
              "\n",
              "[2570 rows x 3 columns]"
            ],
            "text/html": [
              "\n",
              "  <div id=\"df-f8a9894e-1338-4a86-b4ad-f5ba87217397\">\n",
              "    <div class=\"colab-df-container\">\n",
              "      <div>\n",
              "<style scoped>\n",
              "    .dataframe tbody tr th:only-of-type {\n",
              "        vertical-align: middle;\n",
              "    }\n",
              "\n",
              "    .dataframe tbody tr th {\n",
              "        vertical-align: top;\n",
              "    }\n",
              "\n",
              "    .dataframe thead th {\n",
              "        text-align: right;\n",
              "    }\n",
              "</style>\n",
              "<table border=\"1\" class=\"dataframe\">\n",
              "  <thead>\n",
              "    <tr style=\"text-align: right;\">\n",
              "      <th></th>\n",
              "      <th>Close_Stock</th>\n",
              "      <th>CLose_S&amp;P</th>\n",
              "      <th>CLose_Nasdaq</th>\n",
              "    </tr>\n",
              "    <tr>\n",
              "      <th>Date</th>\n",
              "      <th></th>\n",
              "      <th></th>\n",
              "      <th></th>\n",
              "    </tr>\n",
              "  </thead>\n",
              "  <tbody>\n",
              "    <tr>\n",
              "      <th>2012-01-03</th>\n",
              "      <td>5.616000</td>\n",
              "      <td>1277.060059</td>\n",
              "      <td>2648.719971</td>\n",
              "    </tr>\n",
              "    <tr>\n",
              "      <th>2012-01-04</th>\n",
              "      <td>5.542000</td>\n",
              "      <td>1277.300049</td>\n",
              "      <td>2648.360107</td>\n",
              "    </tr>\n",
              "    <tr>\n",
              "      <th>2012-01-05</th>\n",
              "      <td>5.424000</td>\n",
              "      <td>1281.060059</td>\n",
              "      <td>2669.860107</td>\n",
              "    </tr>\n",
              "    <tr>\n",
              "      <th>2012-01-06</th>\n",
              "      <td>5.382000</td>\n",
              "      <td>1277.810059</td>\n",
              "      <td>2674.219971</td>\n",
              "    </tr>\n",
              "    <tr>\n",
              "      <th>2012-01-09</th>\n",
              "      <td>5.450000</td>\n",
              "      <td>1280.699951</td>\n",
              "      <td>2676.560059</td>\n",
              "    </tr>\n",
              "    <tr>\n",
              "      <th>...</th>\n",
              "      <td>...</td>\n",
              "      <td>...</td>\n",
              "      <td>...</td>\n",
              "    </tr>\n",
              "    <tr>\n",
              "      <th>2022-03-14</th>\n",
              "      <td>766.369995</td>\n",
              "      <td>4173.109863</td>\n",
              "      <td>12581.219727</td>\n",
              "    </tr>\n",
              "    <tr>\n",
              "      <th>2022-03-15</th>\n",
              "      <td>801.890015</td>\n",
              "      <td>4262.450195</td>\n",
              "      <td>12948.620117</td>\n",
              "    </tr>\n",
              "    <tr>\n",
              "      <th>2022-03-16</th>\n",
              "      <td>840.229980</td>\n",
              "      <td>4357.859863</td>\n",
              "      <td>13436.549805</td>\n",
              "    </tr>\n",
              "    <tr>\n",
              "      <th>2022-03-17</th>\n",
              "      <td>871.599976</td>\n",
              "      <td>4411.669922</td>\n",
              "      <td>13614.780273</td>\n",
              "    </tr>\n",
              "    <tr>\n",
              "      <th>2022-03-18</th>\n",
              "      <td>905.390015</td>\n",
              "      <td>4463.120117</td>\n",
              "      <td>13893.839844</td>\n",
              "    </tr>\n",
              "  </tbody>\n",
              "</table>\n",
              "<p>2570 rows × 3 columns</p>\n",
              "</div>\n",
              "      <button class=\"colab-df-convert\" onclick=\"convertToInteractive('df-f8a9894e-1338-4a86-b4ad-f5ba87217397')\"\n",
              "              title=\"Convert this dataframe to an interactive table.\"\n",
              "              style=\"display:none;\">\n",
              "        \n",
              "  <svg xmlns=\"http://www.w3.org/2000/svg\" height=\"24px\"viewBox=\"0 0 24 24\"\n",
              "       width=\"24px\">\n",
              "    <path d=\"M0 0h24v24H0V0z\" fill=\"none\"/>\n",
              "    <path d=\"M18.56 5.44l.94 2.06.94-2.06 2.06-.94-2.06-.94-.94-2.06-.94 2.06-2.06.94zm-11 1L8.5 8.5l.94-2.06 2.06-.94-2.06-.94L8.5 2.5l-.94 2.06-2.06.94zm10 10l.94 2.06.94-2.06 2.06-.94-2.06-.94-.94-2.06-.94 2.06-2.06.94z\"/><path d=\"M17.41 7.96l-1.37-1.37c-.4-.4-.92-.59-1.43-.59-.52 0-1.04.2-1.43.59L10.3 9.45l-7.72 7.72c-.78.78-.78 2.05 0 2.83L4 21.41c.39.39.9.59 1.41.59.51 0 1.02-.2 1.41-.59l7.78-7.78 2.81-2.81c.8-.78.8-2.07 0-2.86zM5.41 20L4 18.59l7.72-7.72 1.47 1.35L5.41 20z\"/>\n",
              "  </svg>\n",
              "      </button>\n",
              "      \n",
              "  <style>\n",
              "    .colab-df-container {\n",
              "      display:flex;\n",
              "      flex-wrap:wrap;\n",
              "      gap: 12px;\n",
              "    }\n",
              "\n",
              "    .colab-df-convert {\n",
              "      background-color: #E8F0FE;\n",
              "      border: none;\n",
              "      border-radius: 50%;\n",
              "      cursor: pointer;\n",
              "      display: none;\n",
              "      fill: #1967D2;\n",
              "      height: 32px;\n",
              "      padding: 0 0 0 0;\n",
              "      width: 32px;\n",
              "    }\n",
              "\n",
              "    .colab-df-convert:hover {\n",
              "      background-color: #E2EBFA;\n",
              "      box-shadow: 0px 1px 2px rgba(60, 64, 67, 0.3), 0px 1px 3px 1px rgba(60, 64, 67, 0.15);\n",
              "      fill: #174EA6;\n",
              "    }\n",
              "\n",
              "    [theme=dark] .colab-df-convert {\n",
              "      background-color: #3B4455;\n",
              "      fill: #D2E3FC;\n",
              "    }\n",
              "\n",
              "    [theme=dark] .colab-df-convert:hover {\n",
              "      background-color: #434B5C;\n",
              "      box-shadow: 0px 1px 3px 1px rgba(0, 0, 0, 0.15);\n",
              "      filter: drop-shadow(0px 1px 2px rgba(0, 0, 0, 0.3));\n",
              "      fill: #FFFFFF;\n",
              "    }\n",
              "  </style>\n",
              "\n",
              "      <script>\n",
              "        const buttonEl =\n",
              "          document.querySelector('#df-f8a9894e-1338-4a86-b4ad-f5ba87217397 button.colab-df-convert');\n",
              "        buttonEl.style.display =\n",
              "          google.colab.kernel.accessAllowed ? 'block' : 'none';\n",
              "\n",
              "        async function convertToInteractive(key) {\n",
              "          const element = document.querySelector('#df-f8a9894e-1338-4a86-b4ad-f5ba87217397');\n",
              "          const dataTable =\n",
              "            await google.colab.kernel.invokeFunction('convertToInteractive',\n",
              "                                                     [key], {});\n",
              "          if (!dataTable) return;\n",
              "\n",
              "          const docLinkHtml = 'Like what you see? Visit the ' +\n",
              "            '<a target=\"_blank\" href=https://colab.research.google.com/notebooks/data_table.ipynb>data table notebook</a>'\n",
              "            + ' to learn more about interactive tables.';\n",
              "          element.innerHTML = '';\n",
              "          dataTable['output_type'] = 'display_data';\n",
              "          await google.colab.output.renderOutput(dataTable, element);\n",
              "          const docLink = document.createElement('div');\n",
              "          docLink.innerHTML = docLinkHtml;\n",
              "          element.appendChild(docLink);\n",
              "        }\n",
              "      </script>\n",
              "    </div>\n",
              "  </div>\n",
              "  "
            ]
          },
          "metadata": {},
          "execution_count": 43
        }
      ]
    },
    {
      "cell_type": "code",
      "source": [
        "df.shape[0]"
      ],
      "metadata": {
        "colab": {
          "base_uri": "https://localhost:8080/"
        },
        "id": "lXGVB4ZhDVrQ",
        "outputId": "8529c457-8a1a-49a9-e2ca-19b3fafa8b11"
      },
      "execution_count": 46,
      "outputs": [
        {
          "output_type": "execute_result",
          "data": {
            "text/plain": [
              "2570"
            ]
          },
          "metadata": {},
          "execution_count": 46
        }
      ]
    },
    {
      "cell_type": "markdown",
      "source": [
        "Transform the Data"
      ],
      "metadata": {
        "id": "3TsSY2nQCXS3"
      }
    },
    {
      "cell_type": "code",
      "source": [
        "X0=[]\n",
        "X1=[]\n",
        "X2=[]\n",
        "y=[]\n",
        "\n",
        "look_back = 60\n",
        "\n",
        "for i in range (0, df.shape[0]-look_back):\n",
        "    X0.append(df.iloc[i:i + look_back, 0])\n",
        "    X1.append(df.iloc[i:i + look_back, 1])\n",
        "    X2.append(df.iloc[i:i + look_back, 2])\n",
        "    y.append(df.iloc[i + look_back, 0])\n"
      ],
      "metadata": {
        "id": "IBN7BirCCW3k"
      },
      "execution_count": 47,
      "outputs": []
    },
    {
      "cell_type": "code",
      "source": [
        "type(X2)"
      ],
      "metadata": {
        "colab": {
          "base_uri": "https://localhost:8080/"
        },
        "id": "5RjRbD29Dn8A",
        "outputId": "7c6a1bfb-e7c4-4a29-c5b9-82bf0ee59808"
      },
      "execution_count": 48,
      "outputs": [
        {
          "output_type": "execute_result",
          "data": {
            "text/plain": [
              "list"
            ]
          },
          "metadata": {},
          "execution_count": 48
        }
      ]
    },
    {
      "cell_type": "code",
      "source": [
        "df.head(5)"
      ],
      "metadata": {
        "colab": {
          "base_uri": "https://localhost:8080/",
          "height": 237
        },
        "id": "S-pu99K0ELRm",
        "outputId": "47ea029c-6cd9-486a-8c41-58bfa40c397b"
      },
      "execution_count": 49,
      "outputs": [
        {
          "output_type": "execute_result",
          "data": {
            "text/plain": [
              "            Close_Stock    CLose_S&P  CLose_Nasdaq\n",
              "Date                                              \n",
              "2012-01-03        5.616  1277.060059   2648.719971\n",
              "2012-01-04        5.542  1277.300049   2648.360107\n",
              "2012-01-05        5.424  1281.060059   2669.860107\n",
              "2012-01-06        5.382  1277.810059   2674.219971\n",
              "2012-01-09        5.450  1280.699951   2676.560059"
            ],
            "text/html": [
              "\n",
              "  <div id=\"df-1d8ef068-0f1d-46b5-8e9f-8a228d16a5f5\">\n",
              "    <div class=\"colab-df-container\">\n",
              "      <div>\n",
              "<style scoped>\n",
              "    .dataframe tbody tr th:only-of-type {\n",
              "        vertical-align: middle;\n",
              "    }\n",
              "\n",
              "    .dataframe tbody tr th {\n",
              "        vertical-align: top;\n",
              "    }\n",
              "\n",
              "    .dataframe thead th {\n",
              "        text-align: right;\n",
              "    }\n",
              "</style>\n",
              "<table border=\"1\" class=\"dataframe\">\n",
              "  <thead>\n",
              "    <tr style=\"text-align: right;\">\n",
              "      <th></th>\n",
              "      <th>Close_Stock</th>\n",
              "      <th>CLose_S&amp;P</th>\n",
              "      <th>CLose_Nasdaq</th>\n",
              "    </tr>\n",
              "    <tr>\n",
              "      <th>Date</th>\n",
              "      <th></th>\n",
              "      <th></th>\n",
              "      <th></th>\n",
              "    </tr>\n",
              "  </thead>\n",
              "  <tbody>\n",
              "    <tr>\n",
              "      <th>2012-01-03</th>\n",
              "      <td>5.616</td>\n",
              "      <td>1277.060059</td>\n",
              "      <td>2648.719971</td>\n",
              "    </tr>\n",
              "    <tr>\n",
              "      <th>2012-01-04</th>\n",
              "      <td>5.542</td>\n",
              "      <td>1277.300049</td>\n",
              "      <td>2648.360107</td>\n",
              "    </tr>\n",
              "    <tr>\n",
              "      <th>2012-01-05</th>\n",
              "      <td>5.424</td>\n",
              "      <td>1281.060059</td>\n",
              "      <td>2669.860107</td>\n",
              "    </tr>\n",
              "    <tr>\n",
              "      <th>2012-01-06</th>\n",
              "      <td>5.382</td>\n",
              "      <td>1277.810059</td>\n",
              "      <td>2674.219971</td>\n",
              "    </tr>\n",
              "    <tr>\n",
              "      <th>2012-01-09</th>\n",
              "      <td>5.450</td>\n",
              "      <td>1280.699951</td>\n",
              "      <td>2676.560059</td>\n",
              "    </tr>\n",
              "  </tbody>\n",
              "</table>\n",
              "</div>\n",
              "      <button class=\"colab-df-convert\" onclick=\"convertToInteractive('df-1d8ef068-0f1d-46b5-8e9f-8a228d16a5f5')\"\n",
              "              title=\"Convert this dataframe to an interactive table.\"\n",
              "              style=\"display:none;\">\n",
              "        \n",
              "  <svg xmlns=\"http://www.w3.org/2000/svg\" height=\"24px\"viewBox=\"0 0 24 24\"\n",
              "       width=\"24px\">\n",
              "    <path d=\"M0 0h24v24H0V0z\" fill=\"none\"/>\n",
              "    <path d=\"M18.56 5.44l.94 2.06.94-2.06 2.06-.94-2.06-.94-.94-2.06-.94 2.06-2.06.94zm-11 1L8.5 8.5l.94-2.06 2.06-.94-2.06-.94L8.5 2.5l-.94 2.06-2.06.94zm10 10l.94 2.06.94-2.06 2.06-.94-2.06-.94-.94-2.06-.94 2.06-2.06.94z\"/><path d=\"M17.41 7.96l-1.37-1.37c-.4-.4-.92-.59-1.43-.59-.52 0-1.04.2-1.43.59L10.3 9.45l-7.72 7.72c-.78.78-.78 2.05 0 2.83L4 21.41c.39.39.9.59 1.41.59.51 0 1.02-.2 1.41-.59l7.78-7.78 2.81-2.81c.8-.78.8-2.07 0-2.86zM5.41 20L4 18.59l7.72-7.72 1.47 1.35L5.41 20z\"/>\n",
              "  </svg>\n",
              "      </button>\n",
              "      \n",
              "  <style>\n",
              "    .colab-df-container {\n",
              "      display:flex;\n",
              "      flex-wrap:wrap;\n",
              "      gap: 12px;\n",
              "    }\n",
              "\n",
              "    .colab-df-convert {\n",
              "      background-color: #E8F0FE;\n",
              "      border: none;\n",
              "      border-radius: 50%;\n",
              "      cursor: pointer;\n",
              "      display: none;\n",
              "      fill: #1967D2;\n",
              "      height: 32px;\n",
              "      padding: 0 0 0 0;\n",
              "      width: 32px;\n",
              "    }\n",
              "\n",
              "    .colab-df-convert:hover {\n",
              "      background-color: #E2EBFA;\n",
              "      box-shadow: 0px 1px 2px rgba(60, 64, 67, 0.3), 0px 1px 3px 1px rgba(60, 64, 67, 0.15);\n",
              "      fill: #174EA6;\n",
              "    }\n",
              "\n",
              "    [theme=dark] .colab-df-convert {\n",
              "      background-color: #3B4455;\n",
              "      fill: #D2E3FC;\n",
              "    }\n",
              "\n",
              "    [theme=dark] .colab-df-convert:hover {\n",
              "      background-color: #434B5C;\n",
              "      box-shadow: 0px 1px 3px 1px rgba(0, 0, 0, 0.15);\n",
              "      filter: drop-shadow(0px 1px 2px rgba(0, 0, 0, 0.3));\n",
              "      fill: #FFFFFF;\n",
              "    }\n",
              "  </style>\n",
              "\n",
              "      <script>\n",
              "        const buttonEl =\n",
              "          document.querySelector('#df-1d8ef068-0f1d-46b5-8e9f-8a228d16a5f5 button.colab-df-convert');\n",
              "        buttonEl.style.display =\n",
              "          google.colab.kernel.accessAllowed ? 'block' : 'none';\n",
              "\n",
              "        async function convertToInteractive(key) {\n",
              "          const element = document.querySelector('#df-1d8ef068-0f1d-46b5-8e9f-8a228d16a5f5');\n",
              "          const dataTable =\n",
              "            await google.colab.kernel.invokeFunction('convertToInteractive',\n",
              "                                                     [key], {});\n",
              "          if (!dataTable) return;\n",
              "\n",
              "          const docLinkHtml = 'Like what you see? Visit the ' +\n",
              "            '<a target=\"_blank\" href=https://colab.research.google.com/notebooks/data_table.ipynb>data table notebook</a>'\n",
              "            + ' to learn more about interactive tables.';\n",
              "          element.innerHTML = '';\n",
              "          dataTable['output_type'] = 'display_data';\n",
              "          await google.colab.output.renderOutput(dataTable, element);\n",
              "          const docLink = document.createElement('div');\n",
              "          docLink.innerHTML = docLinkHtml;\n",
              "          element.appendChild(docLink);\n",
              "        }\n",
              "      </script>\n",
              "    </div>\n",
              "  </div>\n",
              "  "
            ]
          },
          "metadata": {},
          "execution_count": 49
        }
      ]
    },
    {
      "cell_type": "code",
      "source": [
        "X0, X1, X2, y = np.array(X0), np.array(X1), np.array(X2), np.array(y)"
      ],
      "metadata": {
        "id": "vLlOzcB6Egjs"
      },
      "execution_count": 50,
      "outputs": []
    },
    {
      "cell_type": "code",
      "source": [
        "X1.shape"
      ],
      "metadata": {
        "colab": {
          "base_uri": "https://localhost:8080/"
        },
        "id": "41zxoK2TEwhZ",
        "outputId": "4d9feafa-be9d-498e-b6b1-84e480b274c2"
      },
      "execution_count": 51,
      "outputs": [
        {
          "output_type": "execute_result",
          "data": {
            "text/plain": [
              "(2510, 60)"
            ]
          },
          "metadata": {},
          "execution_count": 51
        }
      ]
    },
    {
      "cell_type": "code",
      "source": [
        "y.shape"
      ],
      "metadata": {
        "colab": {
          "base_uri": "https://localhost:8080/"
        },
        "id": "hJUs1LV4EzaO",
        "outputId": "663c0770-15d1-4f81-f6a8-d3d519963190"
      },
      "execution_count": 52,
      "outputs": [
        {
          "output_type": "execute_result",
          "data": {
            "text/plain": [
              "(2510,)"
            ]
          },
          "metadata": {},
          "execution_count": 52
        }
      ]
    },
    {
      "cell_type": "code",
      "source": [
        "y=np.reshape(y,(len(y),-1))"
      ],
      "metadata": {
        "id": "dfO8QZGXE2xY"
      },
      "execution_count": 53,
      "outputs": []
    },
    {
      "cell_type": "code",
      "source": [
        "y.shape"
      ],
      "metadata": {
        "colab": {
          "base_uri": "https://localhost:8080/"
        },
        "id": "Hs3WL4ICE7XC",
        "outputId": "f2be2ca4-c0e9-42dc-c970-aed1bd008840"
      },
      "execution_count": 54,
      "outputs": [
        {
          "output_type": "execute_result",
          "data": {
            "text/plain": [
              "(2510, 1)"
            ]
          },
          "metadata": {},
          "execution_count": 54
        }
      ]
    },
    {
      "cell_type": "code",
      "source": [
        "scaler = MinMaxScaler(feature_range=(0,1))\n",
        "X0 = scaler.fit_transform(X0)\n",
        "X1 = scaler.fit_transform(X1)\n",
        "X2 = scaler.fit_transform(X2)\n",
        "y = scaler.fit_transform(y)"
      ],
      "metadata": {
        "id": "M0mBS2pSFAFl"
      },
      "execution_count": 56,
      "outputs": []
    },
    {
      "cell_type": "code",
      "source": [
        "X=np.stack((X0,X1,X2), axis=2)\n",
        "X"
      ],
      "metadata": {
        "colab": {
          "base_uri": "https://localhost:8080/"
        },
        "id": "qPqKKIkOFT3s",
        "outputId": "5266c5b1-5981-45f8-a4ac-df0a5949eedb"
      },
      "execution_count": 58,
      "outputs": [
        {
          "output_type": "execute_result",
          "data": {
            "text/plain": [
              "array([[[8.63425414e-04, 0.00000000e+00, 2.68372828e-05],\n",
              "        [8.03034313e-04, 0.00000000e+00, 0.00000000e+00],\n",
              "        [7.06735432e-04, 9.42580879e-04, 0.00000000e+00],\n",
              "        ...,\n",
              "        [1.84536508e-03, 3.93546065e-02, 2.81811572e-02],\n",
              "        [1.93355050e-03, 3.82206097e-02, 2.80143670e-02],\n",
              "        [1.91885319e-03, 3.62368266e-02, 2.68580798e-02]],\n",
              "\n",
              "       [[8.03034313e-04, 6.98669670e-05, 0.00000000e+00],\n",
              "        [7.06735432e-04, 1.09470635e-03, 1.60339110e-03],\n",
              "        [6.72459717e-04, 0.00000000e+00, 3.25664771e-04],\n",
              "        ...,\n",
              "        [1.93355050e-03, 3.82206097e-02, 2.80143670e-02],\n",
              "        [1.91885319e-03, 3.62368266e-02, 2.68580798e-02],\n",
              "        [1.83393367e-03, 3.55945084e-02, 2.61368265e-02]],\n",
              "\n",
              "       [[7.06735432e-04, 1.16449683e-03, 1.60339110e-03],\n",
              "        [6.72459717e-04, 1.48486564e-04, 1.92853370e-03],\n",
              "        [7.27953842e-04, 8.38140765e-04, 5.00460203e-04],\n",
              "        ...,\n",
              "        [1.91885319e-03, 3.62368266e-02, 2.68580798e-02],\n",
              "        [1.83393367e-03, 3.55945084e-02, 2.61368265e-02],\n",
              "        [1.81923597e-03, 3.70695437e-02, 2.58520744e-02]],\n",
              "\n",
              "       ...,\n",
              "\n",
              "       [[7.57343181e-01, 9.73397104e-01, 9.33794062e-01],\n",
              "        [7.30714095e-01, 9.58075185e-01, 9.19718581e-01],\n",
              "        [7.62207107e-01, 9.77795678e-01, 9.46491407e-01],\n",
              "        ...,\n",
              "        [6.45167311e-01, 8.31676388e-01, 7.58554440e-01],\n",
              "        [6.21504196e-01, 8.22808967e-01, 7.38825617e-01],\n",
              "        [6.50507469e-01, 8.48200419e-01, 7.66429035e-01]],\n",
              "\n",
              "       [[7.30714095e-01, 9.58078114e-01, 9.19718581e-01],\n",
              "        [7.62207107e-01, 9.81719022e-01, 9.46577202e-01],\n",
              "        [8.19610991e-01, 9.91522578e-01, 9.59996447e-01],\n",
              "        ...,\n",
              "        [6.21504196e-01, 8.22808967e-01, 7.38825617e-01],\n",
              "        [6.50507469e-01, 8.48200419e-01, 7.66429035e-01],\n",
              "        [6.81813322e-01, 8.75316840e-01, 8.03088023e-01]],\n",
              "\n",
              "       [[7.62207107e-01, 9.81720300e-01, 9.46577202e-01],\n",
              "        [8.19610991e-01, 9.95498917e-01, 9.60060588e-01],\n",
              "        [8.67050423e-01, 1.00000000e+00, 9.69817525e-01],\n",
              "        ...,\n",
              "        [6.50507469e-01, 8.48200419e-01, 7.66429035e-01],\n",
              "        [6.81813322e-01, 8.75316840e-01, 8.03088023e-01],\n",
              "        [7.07427963e-01, 8.90610218e-01, 8.16478782e-01]]])"
            ]
          },
          "metadata": {},
          "execution_count": 58
        }
      ]
    },
    {
      "cell_type": "code",
      "source": [
        "X.shape"
      ],
      "metadata": {
        "colab": {
          "base_uri": "https://localhost:8080/"
        },
        "id": "BBm03QQCFa8P",
        "outputId": "069db654-b79a-4a47-a0b8-95e656bc589f"
      },
      "execution_count": 59,
      "outputs": [
        {
          "output_type": "execute_result",
          "data": {
            "text/plain": [
              "(2510, 60, 3)"
            ]
          },
          "metadata": {},
          "execution_count": 59
        }
      ]
    },
    {
      "cell_type": "code",
      "source": [
        "X_train, X_test = X[:-514], X[-514:]\n",
        "y_train, y_test = y[:-514], y[-514:]\n",
        "X_train.shape[0], X_train.shape[1], X_train.shape[2]"
      ],
      "metadata": {
        "colab": {
          "base_uri": "https://localhost:8080/"
        },
        "id": "4j84hdYnF09R",
        "outputId": "f64fca9b-1428-487d-bacb-29bac74ff2bc"
      },
      "execution_count": 61,
      "outputs": [
        {
          "output_type": "execute_result",
          "data": {
            "text/plain": [
              "(1996, 60, 3)"
            ]
          },
          "metadata": {},
          "execution_count": 61
        }
      ]
    },
    {
      "cell_type": "code",
      "source": [
        "model = Sequential()\n",
        "# set return requesnce = true, if we are going to have another LSTM layer\n",
        "model.add(LSTM(50, return_sequences=True, input_shape=(X_train.shape[1], X_train.shape[2])))\n",
        "model.add(LSTM(50, return_sequences=False))\n",
        "model.add(Dense(50, activation='relu'))\n",
        "model.add(Dense(1))"
      ],
      "metadata": {
        "id": "bKoa4_loGHDD"
      },
      "execution_count": 63,
      "outputs": []
    },
    {
      "cell_type": "code",
      "source": [
        "model.summary()"
      ],
      "metadata": {
        "colab": {
          "base_uri": "https://localhost:8080/"
        },
        "id": "C9ZxFbhWGS2t",
        "outputId": "7faf4ef0-d033-4cc6-fa7a-29115a6206ad"
      },
      "execution_count": 64,
      "outputs": [
        {
          "output_type": "stream",
          "name": "stdout",
          "text": [
            "Model: \"sequential\"\n",
            "_________________________________________________________________\n",
            " Layer (type)                Output Shape              Param #   \n",
            "=================================================================\n",
            " lstm (LSTM)                 (None, 60, 50)            10800     \n",
            "                                                                 \n",
            " lstm_1 (LSTM)               (None, 50)                20200     \n",
            "                                                                 \n",
            " dense (Dense)               (None, 50)                2550      \n",
            "                                                                 \n",
            " dense_1 (Dense)             (None, 1)                 51        \n",
            "                                                                 \n",
            "=================================================================\n",
            "Total params: 33,601\n",
            "Trainable params: 33,601\n",
            "Non-trainable params: 0\n",
            "_________________________________________________________________\n"
          ]
        }
      ]
    },
    {
      "cell_type": "code",
      "source": [
        "filepath = 'models/{epoch:02d}-{loss:.4f}-{val_loss:.4f}-{mae:.4f}-{val_mae:.4f}.hdf5'\n",
        "\n",
        "callbacks = [EarlyStopping(monitor='val_loss', patience=20),\n",
        "             ModelCheckpoint(filepath, monitor='loss', save_best_only=True, mode='min')]"
      ],
      "metadata": {
        "id": "Sx6LG1-oGe_z"
      },
      "execution_count": 67,
      "outputs": []
    },
    {
      "cell_type": "code",
      "source": [
        "optimizers.SGD(momentum=0.9)\n",
        "model.compile(optimizer='SGD', loss='mse', metrics=['mae'])\n",
        "model.fit(X_train, y_train, validation_split=0.2, epochs=10, callbacks=callbacks, batch_size=16)"
      ],
      "metadata": {
        "colab": {
          "base_uri": "https://localhost:8080/"
        },
        "id": "MNcvWJXOGiWX",
        "outputId": "a6f7390e-6bf1-44e4-cf7f-41a5e0ade3c1"
      },
      "execution_count": 68,
      "outputs": [
        {
          "output_type": "stream",
          "name": "stdout",
          "text": [
            "Epoch 1/10\n",
            "100/100 [==============================] - 11s 69ms/step - loss: 0.0099 - mae: 0.0754 - val_loss: 0.0415 - val_mae: 0.1979\n",
            "Epoch 2/10\n",
            "100/100 [==============================] - 6s 55ms/step - loss: 0.0050 - mae: 0.0556 - val_loss: 0.0306 - val_mae: 0.1690\n",
            "Epoch 3/10\n",
            "100/100 [==============================] - 6s 55ms/step - loss: 0.0034 - mae: 0.0447 - val_loss: 0.0231 - val_mae: 0.1461\n",
            "Epoch 4/10\n",
            "100/100 [==============================] - 7s 75ms/step - loss: 0.0018 - mae: 0.0310 - val_loss: 0.0153 - val_mae: 0.1169\n",
            "Epoch 5/10\n",
            "100/100 [==============================] - 6s 59ms/step - loss: 9.9490e-04 - mae: 0.0230 - val_loss: 0.0113 - val_mae: 0.0990\n",
            "Epoch 6/10\n",
            "100/100 [==============================] - 6s 61ms/step - loss: 5.9326e-04 - mae: 0.0175 - val_loss: 0.0081 - val_mae: 0.0818\n",
            "Epoch 7/10\n",
            "100/100 [==============================] - 6s 59ms/step - loss: 3.7221e-04 - mae: 0.0138 - val_loss: 0.0064 - val_mae: 0.0714\n",
            "Epoch 8/10\n",
            "100/100 [==============================] - 6s 59ms/step - loss: 2.4715e-04 - mae: 0.0109 - val_loss: 0.0052 - val_mae: 0.0628\n",
            "Epoch 9/10\n",
            "100/100 [==============================] - 7s 75ms/step - loss: 1.7491e-04 - mae: 0.0090 - val_loss: 0.0044 - val_mae: 0.0568\n",
            "Epoch 10/10\n",
            "100/100 [==============================] - 6s 61ms/step - loss: 1.3303e-04 - mae: 0.0078 - val_loss: 0.0037 - val_mae: 0.0514\n"
          ]
        },
        {
          "output_type": "execute_result",
          "data": {
            "text/plain": [
              "<keras.callbacks.History at 0x7ff91158dbd0>"
            ]
          },
          "metadata": {},
          "execution_count": 68
        }
      ]
    },
    {
      "cell_type": "code",
      "source": [
        "MSE, MAE = model.evaluate(X_test, y_test)\n",
        "print(MSE, MAE)"
      ],
      "metadata": {
        "colab": {
          "base_uri": "https://localhost:8080/"
        },
        "id": "_WNpeeDnG4m2",
        "outputId": "21cd807a-f715-4e15-e33e-61b638284136"
      },
      "execution_count": 69,
      "outputs": [
        {
          "output_type": "stream",
          "name": "stdout",
          "text": [
            "17/17 [==============================] - 1s 19ms/step - loss: 0.1440 - mae: 0.3501\n",
            "0.14397549629211426 0.3501459062099457\n"
          ]
        }
      ]
    },
    {
      "cell_type": "code",
      "source": [
        "predictions = model.predict(X_test)\n",
        "predictions = scaler.inverse_transform(predictions)"
      ],
      "metadata": {
        "id": "gHjCI9AyHAzS"
      },
      "execution_count": 70,
      "outputs": []
    },
    {
      "cell_type": "code",
      "source": [
        "plt.style.use('fivethirtyeight')\n",
        "plt.figure(figsize=(12,8))\n",
        "plt.title('Model')\n",
        "plt.xlabel('Date',fontsize=14)\n",
        "plt.ylabel('Stock Price ($)', fontsize=18)\n",
        "plt.plot(predictions)\n",
        "plt.plot(scaler.inverse_transform(y_test))\n",
        "plt.legend(['Forecast', 'Actual'],loc='lower right')\n",
        "plt.show()"
      ],
      "metadata": {
        "colab": {
          "base_uri": "https://localhost:8080/",
          "height": 554
        },
        "id": "xd58kko7HJx4",
        "outputId": "5bd4f3a7-5a5b-417e-81f4-2c2b5bb6949f"
      },
      "execution_count": 72,
      "outputs": [
        {
          "output_type": "display_data",
          "data": {
            "text/plain": [
              "<Figure size 864x576 with 1 Axes>"
            ],
            "image/png": "[encoded data removed]"
          },
          "metadata": {}
        }
      ]
    }
  ]
}